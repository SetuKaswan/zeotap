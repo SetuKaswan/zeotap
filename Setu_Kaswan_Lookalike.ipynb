{
  "nbformat": 4,
  "nbformat_minor": 0,
  "metadata": {
    "colab": {
      "provenance": [],
      "authorship_tag": "ABX9TyNtvmmlJGdlTtzzBLzdbRcz",
      "include_colab_link": true
    },
    "kernelspec": {
      "name": "python3",
      "display_name": "Python 3"
    },
    "language_info": {
      "name": "python"
    }
  },
  "cells": [
    {
      "cell_type": "markdown",
      "metadata": {
        "id": "view-in-github",
        "colab_type": "text"
      },
      "source": [
        "<a href=\"https://colab.research.google.com/github/SetuKaswan/zeotap/blob/main/Setu_Kaswan_Lookalike.ipynb\" target=\"_parent\"><img src=\"https://colab.research.google.com/assets/colab-badge.svg\" alt=\"Open In Colab\"/></a>"
      ]
    },
    {
      "cell_type": "markdown",
      "source": [
        "# Import libraries\n"
      ],
      "metadata": {
        "id": "Nq0h5GMlGBiz"
      }
    },
    {
      "cell_type": "code",
      "source": [
        "import pandas as pd\n",
        "import numpy as np\n",
        "from sklearn.preprocessing import StandardScaler\n",
        "from sklearn.metrics.pairwise import cosine_similarity"
      ],
      "metadata": {
        "id": "9Mnt-H6HGHwH"
      },
      "execution_count": 21,
      "outputs": []
    },
    {
      "cell_type": "code",
      "source": [
        "customers_url = 'https://raw.githubusercontent.com/SetuKaswan/zeotap/refs/heads/main/Customers.csv'\n",
        "products_url = 'https://raw.githubusercontent.com/SetuKaswan/zeotap/refs/heads/main/Products.csv'\n",
        "transactions_url = 'https://raw.githubusercontent.com/SetuKaswan/zeotap/refs/heads/main/Transactions.csv'"
      ],
      "metadata": {
        "id": "ugGbqzxzGRb9"
      },
      "execution_count": 2,
      "outputs": []
    },
    {
      "cell_type": "code",
      "source": [
        "from urllib.request import urlretrieve\n",
        "urlretrieve(customers_url, 'customers.csv')\n",
        "urlretrieve(products_url, 'products.csv')\n",
        "urlretrieve(transactions_url, 'transactions.csv')"
      ],
      "metadata": {
        "colab": {
          "base_uri": "https://localhost:8080/"
        },
        "id": "-FWg0OEnGXbA",
        "outputId": "81604dc8-50b1-4b80-e1dc-6177a20be390"
      },
      "execution_count": 15,
      "outputs": [
        {
          "output_type": "execute_result",
          "data": {
            "text/plain": [
              "('transactions.csv', <http.client.HTTPMessage at 0x7fd943470590>)"
            ]
          },
          "metadata": {},
          "execution_count": 15
        }
      ]
    },
    {
      "cell_type": "markdown",
      "source": [
        "Creating dataframes"
      ],
      "metadata": {
        "id": "2ncydaW2OE0z"
      }
    },
    {
      "cell_type": "code",
      "source": [
        "customers_df = pd.read_csv('customers.csv')\n",
        "products_df = pd.read_csv('products.csv')\n",
        "transactions_df = pd.read_csv('transactions.csv')"
      ],
      "metadata": {
        "id": "X_oo_LgXGbFz"
      },
      "execution_count": 17,
      "outputs": []
    },
    {
      "cell_type": "markdown",
      "source": [
        "# **Data cleaning**"
      ],
      "metadata": {
        "id": "JkI_O6wJN_oW"
      }
    },
    {
      "cell_type": "code",
      "source": [
        "customers_df['SignupDate'] = pd.to_datetime(customers_df['SignupDate'])\n",
        "transactions_df['TransactionDate'] = pd.to_datetime(transactions_df['TransactionDate'])\n",
        "\n",
        "customers_df.isnull().sum(), transactions_df.isnull().sum(), products_df.isnull().sum()\n",
        "transactions_df.drop_duplicates(inplace=True)"
      ],
      "metadata": {
        "id": "5jcZG0jeL5_D"
      },
      "execution_count": 24,
      "outputs": []
    },
    {
      "cell_type": "markdown",
      "source": [
        "# Aggregate transaction data"
      ],
      "metadata": {
        "id": "ErDOcKgfG9Vb"
      }
    },
    {
      "cell_type": "code",
      "source": [
        "customer_metrics = transactions_df.groupby('CustomerID').agg({\n",
        "    'TransactionID': 'count',  # Number of transactions\n",
        "    'TotalValue': 'sum',       # Total spend\n",
        "    'Quantity': 'sum',         # Total items bought\n",
        "    'ProductID': lambda x: len(set(x))  # Unique products bought\n",
        "}).rename(columns={\n",
        "    'TransactionID': 'transaction_count',\n",
        "    'TotalValue': 'total_spend',\n",
        "    'Quantity': 'total_items',\n",
        "    'ProductID': 'unique_products'\n",
        "})\n",
        "\n",
        "customer_metrics['avg_order_value'] = customer_metrics['total_spend'] / customer_metrics['transaction_count']\n",
        "\n",
        "product_categories = products_df[['ProductID', 'Category']].set_index('ProductID')\n",
        "txn_with_categories = transactions_df.merge(product_categories, on='ProductID')\n",
        "\n",
        "category_preferences = pd.get_dummies(txn_with_categories['Category'])\n",
        "category_preferences = category_preferences.mul(txn_with_categories['Quantity'], axis=0)\n",
        "category_preferences = category_preferences.groupby(txn_with_categories['CustomerID']).sum()\n",
        "\n",
        "customer_features = pd.merge(\n",
        "    customer_metrics,\n",
        "    category_preferences,\n",
        "    left_index=True,\n",
        "    right_index=True,\n",
        "    how='left'\n",
        ")"
      ],
      "metadata": {
        "id": "YTMZvKMWG1Jt"
      },
      "execution_count": 25,
      "outputs": []
    },
    {
      "cell_type": "code",
      "source": [
        "scaler = StandardScaler()\n",
        "features_normalized = scaler.fit_transform(customer_features)\n",
        "features_normalized = pd.DataFrame(\n",
        "    features_normalized,\n",
        "    columns=customer_features.columns,\n",
        "    index=customer_features.index\n",
        ")"
      ],
      "metadata": {
        "id": "oDJ1vqmhMhxI"
      },
      "execution_count": 26,
      "outputs": []
    },
    {
      "cell_type": "markdown",
      "source": [
        "# Finding similarity score"
      ],
      "metadata": {
        "id": "3l2A12kVNxy3"
      }
    },
    {
      "cell_type": "code",
      "source": [
        "def get_lookalikes(customer_id, features_df, n_recommendations=3):\n",
        "\n",
        "    customer_vector = features_df.loc[customer_id].values.reshape(1, -1)\n",
        "    similarity_scores = cosine_similarity(customer_vector, features_df)\n",
        "\n",
        "    similar_indices = similarity_scores[0].argsort()[::-1][1:n_recommendations+1]\n",
        "\n",
        "    similar_customers = [\n",
        "        (features_df.index[idx], similarity_scores[0][idx])\n",
        "        for idx in similar_indices\n",
        "    ]\n",
        "\n",
        "    return similar_customers"
      ],
      "metadata": {
        "id": "XOULw8yeMlWd"
      },
      "execution_count": 27,
      "outputs": []
    },
    {
      "cell_type": "code",
      "source": [
        "results = {}\n",
        "for cust_id in customers_df['CustomerID'][:20]:\n",
        "    lookalikes = get_lookalikes(cust_id, features_normalized)\n",
        "    results[cust_id] = lookalikes"
      ],
      "metadata": {
        "id": "BnA-ulFrMpSh"
      },
      "execution_count": 28,
      "outputs": []
    },
    {
      "cell_type": "markdown",
      "source": [
        "# Storing the output"
      ],
      "metadata": {
        "id": "gbr4L83TNo1L"
      }
    },
    {
      "cell_type": "code",
      "source": [
        "output_rows = []\n",
        "for cust_id, recommendations in results.items():\n",
        "    for rank, (rec_id, score) in enumerate(recommendations, 1):\n",
        "        output_rows.append({\n",
        "            'source_customer': cust_id,\n",
        "            'recommended_customer': rec_id,\n",
        "            'similarity_score': score,\n",
        "            'rank': rank\n",
        "        })\n",
        "\n",
        "output_df = pd.DataFrame(output_rows)\n",
        "output_df.to_csv('Setu_Kaswan_Lookalike.csv', index=False)"
      ],
      "metadata": {
        "id": "-Sz3rdPPMu0v"
      },
      "execution_count": 30,
      "outputs": []
    },
    {
      "cell_type": "code",
      "source": [
        "from google.colab import files\n",
        "files.download('Setu_Kaswan_Lookalike.csv')"
      ],
      "metadata": {
        "colab": {
          "base_uri": "https://localhost:8080/",
          "height": 17
        },
        "id": "AJCU6keANOP8",
        "outputId": "8bdc55d1-20fb-4263-a12e-e6ef59b262b7"
      },
      "execution_count": 32,
      "outputs": [
        {
          "output_type": "display_data",
          "data": {
            "text/plain": [
              "<IPython.core.display.Javascript object>"
            ],
            "application/javascript": [
              "\n",
              "    async function download(id, filename, size) {\n",
              "      if (!google.colab.kernel.accessAllowed) {\n",
              "        return;\n",
              "      }\n",
              "      const div = document.createElement('div');\n",
              "      const label = document.createElement('label');\n",
              "      label.textContent = `Downloading \"${filename}\": `;\n",
              "      div.appendChild(label);\n",
              "      const progress = document.createElement('progress');\n",
              "      progress.max = size;\n",
              "      div.appendChild(progress);\n",
              "      document.body.appendChild(div);\n",
              "\n",
              "      const buffers = [];\n",
              "      let downloaded = 0;\n",
              "\n",
              "      const channel = await google.colab.kernel.comms.open(id);\n",
              "      // Send a message to notify the kernel that we're ready.\n",
              "      channel.send({})\n",
              "\n",
              "      for await (const message of channel.messages) {\n",
              "        // Send a message to notify the kernel that we're ready.\n",
              "        channel.send({})\n",
              "        if (message.buffers) {\n",
              "          for (const buffer of message.buffers) {\n",
              "            buffers.push(buffer);\n",
              "            downloaded += buffer.byteLength;\n",
              "            progress.value = downloaded;\n",
              "          }\n",
              "        }\n",
              "      }\n",
              "      const blob = new Blob(buffers, {type: 'application/binary'});\n",
              "      const a = document.createElement('a');\n",
              "      a.href = window.URL.createObjectURL(blob);\n",
              "      a.download = filename;\n",
              "      div.appendChild(a);\n",
              "      a.click();\n",
              "      div.remove();\n",
              "    }\n",
              "  "
            ]
          },
          "metadata": {}
        },
        {
          "output_type": "display_data",
          "data": {
            "text/plain": [
              "<IPython.core.display.Javascript object>"
            ],
            "application/javascript": [
              "download(\"download_30115dd7-2bbb-4156-83f6-f73361efe34b\", \"Setu_Kaswan_Lookalike.csv\", 2028)"
            ]
          },
          "metadata": {}
        }
      ]
    }
  ]
}